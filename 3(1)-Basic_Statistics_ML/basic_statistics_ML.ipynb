{
 "cells": [
  {
   "cell_type": "markdown",
   "id": "9a38b361",
   "metadata": {},
   "source": [
    "# 1. "
   ]
  },
  {
   "cell_type": "code",
   "execution_count": 2,
   "id": "1357af90",
   "metadata": {},
   "outputs": [
    {
     "name": "stdout",
     "output_type": "stream",
     "text": [
      "   sepal_length  sepal_width  petal_length  petal_width species\n",
      "0           5.1          3.5           1.4          0.2  setosa\n",
      "1           4.9          3.0           1.4          0.2  setosa\n",
      "2           4.7          3.2           1.3          0.2  setosa\n",
      "3           4.6          3.1           1.5          0.2  setosa\n",
      "4           5.0          3.6           1.4          0.2  setosa\n",
      "<class 'pandas.core.frame.DataFrame'>\n",
      "RangeIndex: 150 entries, 0 to 149\n",
      "Data columns (total 5 columns):\n",
      " #   Column        Non-Null Count  Dtype  \n",
      "---  ------        --------------  -----  \n",
      " 0   sepal_length  150 non-null    float64\n",
      " 1   sepal_width   150 non-null    float64\n",
      " 2   petal_length  150 non-null    float64\n",
      " 3   petal_width   150 non-null    float64\n",
      " 4   species       150 non-null    object \n",
      "dtypes: float64(4), object(1)\n",
      "memory usage: 6.0+ KB\n",
      "None\n"
     ]
    }
   ],
   "source": [
    "#1\n",
    "import seaborn as sns\n",
    "iris = sns.load_dataset('iris')\n",
    "print(iris.head())\n",
    "print(iris.info())"
   ]
  },
  {
   "cell_type": "code",
   "execution_count": 3,
   "id": "398fb594",
   "metadata": {},
   "outputs": [
    {
     "name": "stdout",
     "output_type": "stream",
     "text": [
      "Species별 Petal Length의 평균, 표준편차, 최소값, 최대값, 사분위수 : \n",
      "            count   mean       std  min  25%   50%    75%  max\n",
      "species                                                       \n",
      "setosa       50.0  1.462  0.173664  1.0  1.4  1.50  1.575  1.9\n",
      "versicolor   50.0  4.260  0.469911  3.0  4.0  4.35  4.600  5.1\n",
      "virginica    50.0  5.552  0.551895  4.5  5.1  5.55  5.875  6.9\n",
      "그룹별 데이터 개수 : \n",
      "            sepal_length  sepal_width  petal_length  petal_width\n",
      "species                                                         \n",
      "setosa                50           50            50           50\n",
      "versicolor            50           50            50           50\n",
      "virginica             50           50            50           50\n"
     ]
    }
   ],
   "source": [
    "#2\n",
    "print(\"Species별 Petal Length의 평균, 표준편차, 최소값, 최대값, 사분위수 : \")\n",
    "print(iris.groupby('species')['petal_length'].describe())\n",
    "print(\"그룹별 데이터 개수 : \")\n",
    "print(iris.groupby('species').count())"
   ]
  },
  {
   "cell_type": "code",
   "execution_count": 4,
   "id": "50d835ea",
   "metadata": {},
   "outputs": [
    {
     "data": {
      "image/png": "[encoded data removed]",
      "text/plain": [
       "<Figure size 800x600 with 1 Axes>"
      ]
     },
     "metadata": {},
     "output_type": "display_data"
    }
   ],
   "source": [
    "# 3\n",
    "import matplotlib.pyplot as plt\n",
    "plt.figure(figsize=(8, 6))\n",
    "sns.boxplot(x='species', y='petal_length', data=iris)\n",
    "plt.title('Boxplot of Petal Length by Species')\n",
    "plt.xlabel('Species')\n",
    "plt.ylabel('Petal Length (cm)')\n",
    "plt.grid(True)\n",
    "plt.show()\n",
    "\n",
    "# virginica 평균값 중앙값 높음\n",
    "# setosa 평균값 중앙값 낮음 "
   ]
  },
  {
   "cell_type": "code",
   "execution_count": 6,
   "id": "1e065a83",
   "metadata": {},
   "outputs": [
    {
     "name": "stdout",
     "output_type": "stream",
     "text": [
      "Setosa     W-statistic: 0.9549767850318988, p-value: 0.0548114671955363\n",
      "Versicolor W-statistic: 0.96600440254332, p-value: 0.15847783815657573\n",
      "Virginica  W-statistic: 0.9621864428612802, p-value: 0.10977536903223506\n"
     ]
    }
   ],
   "source": [
    "# 4\n",
    "import scipy\n",
    "\n",
    "for species in iris['species'].unique():\n",
    "    data = iris[iris['species'] == species]['petal_length']\n",
    "    stat, p = scipy.stats.shapiro(data)\n",
    "    print(f\"{species.capitalize():<10} W-statistic: {stat}, p-value: {p}\")\n",
    "\n",
    "# 모두 유의수준 0.05 에서 귀무가설 채택. "
   ]
  },
  {
   "cell_type": "code",
   "execution_count": 7,
   "id": "1f208ecc",
   "metadata": {},
   "outputs": [
    {
     "name": "stdout",
     "output_type": "stream",
     "text": [
      "W-statistic: 19.480338801923573, p-value: 3.1287566394085344e-08\n"
     ]
    }
   ],
   "source": [
    "# 5\n",
    "setosa = iris[iris['species'] == 'setosa']['petal_length']\n",
    "versicolor = iris[iris['species'] == 'versicolor']['petal_length']\n",
    "virginica = iris[iris['species'] == 'virginica']['petal_length']\n",
    "\n",
    "stat, p = scipy.stats.levene(setosa, versicolor, virginica)\n",
    "print(f\"W-statistic: {stat}, p-value: {p}\")\n",
    "\n",
    "# 유의수준 0.05에서 귀무가설 기각, 등분산성 만족하지 않음"
   ]
  },
  {
   "cell_type": "markdown",
   "id": "6c826ae9",
   "metadata": {},
   "source": [
    "\t# 6 \n",
    "\t•\t귀무가설 (H₀): 세 그룹의 분산이 모두 같다 (등분산성 만족)\n",
    "\t•\t대립가설 (H₁): 세 그룹의 분산 중 적어도 하나 이상 다르다"
   ]
  },
  {
   "cell_type": "code",
   "execution_count": 8,
   "id": "8674459e",
   "metadata": {},
   "outputs": [
    {
     "name": "stdout",
     "output_type": "stream",
     "text": [
      "ANOVA F-statistic: 1180.161182252981, p-value: 2.8567766109615584e-91\n"
     ]
    }
   ],
   "source": [
    "# 7\n",
    "f_stat, p_value = scipy.stats.f_oneway(setosa, versicolor, virginica)\n",
    "print(f\"ANOVA F-statistic: {f_stat}, p-value: {p_value}\")\n",
    "\n",
    "# 종 간 petal_length의 평균에는 유의미한 차이가 있다. "
   ]
  },
  {
   "cell_type": "code",
   "execution_count": 10,
   "id": "d271b1ca",
   "metadata": {},
   "outputs": [
    {
     "name": "stdout",
     "output_type": "stream",
     "text": [
      "   Multiple Comparison of Means - Tukey HSD, FWER=0.05   \n",
      "=========================================================\n",
      "  group1     group2   meandiff p-adj lower  upper  reject\n",
      "---------------------------------------------------------\n",
      "    setosa versicolor    2.798   0.0 2.5942 3.0018   True\n",
      "    setosa  virginica     4.09   0.0 3.8862 4.2938   True\n",
      "versicolor  virginica    1.292   0.0 1.0882 1.4958   True\n",
      "---------------------------------------------------------\n"
     ]
    }
   ],
   "source": [
    "# 8\n",
    "from statsmodels.stats.multicomp import pairwise_tukeyhsd\n",
    "\n",
    "tukey = pairwise_tukeyhsd(endog=iris['petal_length'],\n",
    "                          groups=iris['species'],\n",
    "                          alpha=0.05)\n",
    "print(tukey)\n",
    "\n",
    "# 세종 사이에 유의미한 차이가 존재하고, 세 그룹 모두 유의수준 0.05에서 유의미한 차이를 보인다. "
   ]
  },
  {
   "cell_type": "markdown",
   "id": "b0b5f9e4",
   "metadata": {},
   "source": [
    "# 9\n",
    "\n",
    "- boxplot과 anova에서 세 종 간의 petal_length 평균에는 유의미한 차이가 있음을 확인할 수 있다\n",
    "- Tukey HSD로 사후 검정 한 결과 모든 3쌍에서 유의미한 차이를 확인 할 수 있다. \n",
    "- Virginica가 가장 길고, Setosa가 가장 짧으며, Versicolor는 중간임을 확인할 수 있다."
   ]
  },
  {
   "cell_type": "markdown",
   "id": "98fa2f32",
   "metadata": {},
   "source": [
    "# 2. "
   ]
  },
  {
   "cell_type": "code",
   "execution_count": 11,
   "id": "6d9338f9",
   "metadata": {},
   "outputs": [
    {
     "name": "stdout",
     "output_type": "stream",
     "text": [
      "   Time        V1        V2        V3        V4        V5        V6        V7  \\\n",
      "0   0.0 -1.359807 -0.072781  2.536347  1.378155 -0.338321  0.462388  0.239599   \n",
      "1   0.0  1.191857  0.266151  0.166480  0.448154  0.060018 -0.082361 -0.078803   \n",
      "2   1.0 -1.358354 -1.340163  1.773209  0.379780 -0.503198  1.800499  0.791461   \n",
      "3   1.0 -0.966272 -0.185226  1.792993 -0.863291 -0.010309  1.247203  0.237609   \n",
      "4   2.0 -1.158233  0.877737  1.548718  0.403034 -0.407193  0.095921  0.592941   \n",
      "\n",
      "         V8        V9  ...       V21       V22       V23       V24       V25  \\\n",
      "0  0.098698  0.363787  ... -0.018307  0.277838 -0.110474  0.066928  0.128539   \n",
      "1  0.085102 -0.255425  ... -0.225775 -0.638672  0.101288 -0.339846  0.167170   \n",
      "2  0.247676 -1.514654  ...  0.247998  0.771679  0.909412 -0.689281 -0.327642   \n",
      "3  0.377436 -1.387024  ... -0.108300  0.005274 -0.190321 -1.175575  0.647376   \n",
      "4 -0.270533  0.817739  ... -0.009431  0.798278 -0.137458  0.141267 -0.206010   \n",
      "\n",
      "        V26       V27       V28  Amount  Class  \n",
      "0 -0.189115  0.133558 -0.021053  149.62      0  \n",
      "1  0.125895 -0.008983  0.014724    2.69      0  \n",
      "2 -0.139097 -0.055353 -0.059752  378.66      0  \n",
      "3 -0.221929  0.062723  0.061458  123.50      0  \n",
      "4  0.502292  0.219422  0.215153   69.99      0  \n",
      "\n",
      "[5 rows x 31 columns]\n",
      "<class 'pandas.core.frame.DataFrame'>\n",
      "RangeIndex: 284807 entries, 0 to 284806\n",
      "Data columns (total 31 columns):\n",
      " #   Column  Non-Null Count   Dtype  \n",
      "---  ------  --------------   -----  \n",
      " 0   Time    284807 non-null  float64\n",
      " 1   V1      284807 non-null  float64\n",
      " 2   V2      284807 non-null  float64\n",
      " 3   V3      284807 non-null  float64\n",
      " 4   V4      284807 non-null  float64\n",
      " 5   V5      284807 non-null  float64\n",
      " 6   V6      284807 non-null  float64\n",
      " 7   V7      284807 non-null  float64\n",
      " 8   V8      284807 non-null  float64\n",
      " 9   V9      284807 non-null  float64\n",
      " 10  V10     284807 non-null  float64\n",
      " 11  V11     284807 non-null  float64\n",
      " 12  V12     284807 non-null  float64\n",
      " 13  V13     284807 non-null  float64\n",
      " 14  V14     284807 non-null  float64\n",
      " 15  V15     284807 non-null  float64\n",
      " 16  V16     284807 non-null  float64\n",
      " 17  V17     284807 non-null  float64\n",
      " 18  V18     284807 non-null  float64\n",
      " 19  V19     284807 non-null  float64\n",
      " 20  V20     284807 non-null  float64\n",
      " 21  V21     284807 non-null  float64\n",
      " 22  V22     284807 non-null  float64\n",
      " 23  V23     284807 non-null  float64\n",
      " 24  V24     284807 non-null  float64\n",
      " 25  V25     284807 non-null  float64\n",
      " 26  V26     284807 non-null  float64\n",
      " 27  V27     284807 non-null  float64\n",
      " 28  V28     284807 non-null  float64\n",
      " 29  Amount  284807 non-null  float64\n",
      " 30  Class   284807 non-null  int64  \n",
      "dtypes: float64(30), int64(1)\n",
      "memory usage: 67.4 MB\n",
      "None\n",
      "                Time            V1            V2            V3            V4  \\\n",
      "count  284807.000000  2.848070e+05  2.848070e+05  2.848070e+05  2.848070e+05   \n",
      "mean    94813.859575  1.168375e-15  3.416908e-16 -1.379537e-15  2.074095e-15   \n",
      "std     47488.145955  1.958696e+00  1.651309e+00  1.516255e+00  1.415869e+00   \n",
      "min         0.000000 -5.640751e+01 -7.271573e+01 -4.832559e+01 -5.683171e+00   \n",
      "25%     54201.500000 -9.203734e-01 -5.985499e-01 -8.903648e-01 -8.486401e-01   \n",
      "50%     84692.000000  1.810880e-02  6.548556e-02  1.798463e-01 -1.984653e-02   \n",
      "75%    139320.500000  1.315642e+00  8.037239e-01  1.027196e+00  7.433413e-01   \n",
      "max    172792.000000  2.454930e+00  2.205773e+01  9.382558e+00  1.687534e+01   \n",
      "\n",
      "                 V5            V6            V7            V8            V9  \\\n",
      "count  2.848070e+05  2.848070e+05  2.848070e+05  2.848070e+05  2.848070e+05   \n",
      "mean   9.604066e-16  1.487313e-15 -5.556467e-16  1.213481e-16 -2.406331e-15   \n",
      "std    1.380247e+00  1.332271e+00  1.237094e+00  1.194353e+00  1.098632e+00   \n",
      "min   -1.137433e+02 -2.616051e+01 -4.355724e+01 -7.321672e+01 -1.343407e+01   \n",
      "25%   -6.915971e-01 -7.682956e-01 -5.540759e-01 -2.086297e-01 -6.430976e-01   \n",
      "50%   -5.433583e-02 -2.741871e-01  4.010308e-02  2.235804e-02 -5.142873e-02   \n",
      "75%    6.119264e-01  3.985649e-01  5.704361e-01  3.273459e-01  5.971390e-01   \n",
      "max    3.480167e+01  7.330163e+01  1.205895e+02  2.000721e+01  1.559499e+01   \n",
      "\n",
      "       ...           V21           V22           V23           V24  \\\n",
      "count  ...  2.848070e+05  2.848070e+05  2.848070e+05  2.848070e+05   \n",
      "mean   ...  1.654067e-16 -3.568593e-16  2.578648e-16  4.473266e-15   \n",
      "std    ...  7.345240e-01  7.257016e-01  6.244603e-01  6.056471e-01   \n",
      "min    ... -3.483038e+01 -1.093314e+01 -4.480774e+01 -2.836627e+00   \n",
      "25%    ... -2.283949e-01 -5.423504e-01 -1.618463e-01 -3.545861e-01   \n",
      "50%    ... -2.945017e-02  6.781943e-03 -1.119293e-02  4.097606e-02   \n",
      "75%    ...  1.863772e-01  5.285536e-01  1.476421e-01  4.395266e-01   \n",
      "max    ...  2.720284e+01  1.050309e+01  2.252841e+01  4.584549e+00   \n",
      "\n",
      "                V25           V26           V27           V28         Amount  \\\n",
      "count  2.848070e+05  2.848070e+05  2.848070e+05  2.848070e+05  284807.000000   \n",
      "mean   5.340915e-16  1.683437e-15 -3.660091e-16 -1.227390e-16      88.349619   \n",
      "std    5.212781e-01  4.822270e-01  4.036325e-01  3.300833e-01     250.120109   \n",
      "min   -1.029540e+01 -2.604551e+00 -2.256568e+01 -1.543008e+01       0.000000   \n",
      "25%   -3.171451e-01 -3.269839e-01 -7.083953e-02 -5.295979e-02       5.600000   \n",
      "50%    1.659350e-02 -5.213911e-02  1.342146e-03  1.124383e-02      22.000000   \n",
      "75%    3.507156e-01  2.409522e-01  9.104512e-02  7.827995e-02      77.165000   \n",
      "max    7.519589e+00  3.517346e+00  3.161220e+01  3.384781e+01   25691.160000   \n",
      "\n",
      "               Class  \n",
      "count  284807.000000  \n",
      "mean        0.001727  \n",
      "std         0.041527  \n",
      "min         0.000000  \n",
      "25%         0.000000  \n",
      "50%         0.000000  \n",
      "75%         0.000000  \n",
      "max         1.000000  \n",
      "\n",
      "[8 rows x 31 columns]\n",
      "Class\n",
      "0    284315\n",
      "1       492\n",
      "Name: count, dtype: int64\n",
      "Class\n",
      "0    0.998273\n",
      "1    0.001727\n",
      "Name: proportion, dtype: float64\n"
     ]
    }
   ],
   "source": [
    "#1\n",
    "\n",
    "import pandas as pd\n",
    "\n",
    "df = pd.read_csv('creditcard.csv')\n",
    "\n",
    "print(df.head())\n",
    "print(df.info())\n",
    "print(df.describe())\n",
    "print(df['Class'].value_counts()) \n",
    "print(df['Class'].value_counts(normalize=True)) "
   ]
  },
  {
   "cell_type": "code",
   "execution_count": null,
   "id": "1de2cdaf",
   "metadata": {},
   "outputs": [
    {
     "name": "stdout",
     "output_type": "stream",
     "text": [
      "Class\n",
      "0    0.953107\n",
      "1    0.046893\n",
      "Name: proportion, dtype: float64\n"
     ]
    }
   ],
   "source": [
    "# 2 \n",
    "fraud = df[df['Class'] == 1]\n",
    "normal_sample = df[df['Class'] == 0].sample(n=10000, random_state=42)\n",
    "sampled_df = pd.concat([fraud, normal_sample], axis=0)\n",
    "print(sampled_df['Class'].value_counts(normalize=True))"
   ]
  },
  {
   "cell_type": "code",
   "execution_count": 14,
   "id": "9462673c",
   "metadata": {},
   "outputs": [],
   "source": [
    "# 3\n",
    "from sklearn.preprocessing import StandardScaler\n",
    "\n",
    "scaler = StandardScaler()\n",
    "sampled_df['Amount_Scaled'] = scaler.fit_transform(sampled_df[['Amount']])\n",
    "sampled_df = sampled_df.drop('Amount', axis=1)\n",
    "\n",
    "X = sampled_df.drop('Class', axis=1)\n",
    "y = sampled_df['Class'] "
   ]
  },
  {
   "cell_type": "code",
   "execution_count": null,
   "id": "dda16ec2",
   "metadata": {},
   "outputs": [
    {
     "name": "stdout",
     "output_type": "stream",
     "text": [
      "학습셋 Class 분포: Class\n",
      "0    7999\n",
      "1     394\n",
      "Name: count, dtype: int64\n",
      "\n",
      "테스트셋 Class 분포: Class\n",
      "0    2001\n",
      "1      98\n",
      "Name: count, dtype: int64\n"
     ]
    }
   ],
   "source": [
    "# 4\n",
    "from sklearn.model_selection import train_test_split\n",
    "\n",
    "X_train, X_test, y_train, y_test = train_test_split(\n",
    "    X, y,\n",
    "    test_size=0.2,\n",
    "    stratify=y,\n",
    "    random_state=42\n",
    ")\n",
    "\n",
    "print(\"학습셋 Class 분포:\", y_train.value_counts())\n",
    "print(\"\\n테스트셋 Class 분포:\", y_test.value_counts())"
   ]
  },
  {
   "cell_type": "code",
   "execution_count": null,
   "id": "7034fd1f",
   "metadata": {},
   "outputs": [
    {
     "name": "stdout",
     "output_type": "stream",
     "text": [
      "SMOTE 적용 전:\n",
      " Class\n",
      "0    7999\n",
      "1     394\n",
      "Name: count, dtype: int64\n",
      "\n",
      "SMOTE 적용 후:\n",
      " Class\n",
      "0    7999\n",
      "1    7999\n",
      "Name: count, dtype: int64\n"
     ]
    },
    {
     "name": "stderr",
     "output_type": "stream",
     "text": [
      "/Users/jimin/anaconda3/envs/hw3/lib/python3.9/site-packages/sklearn/base.py:474: FutureWarning: `BaseEstimator._validate_data` is deprecated in 1.6 and will be removed in 1.7. Use `sklearn.utils.validation.validate_data` instead. This function becomes public and is part of the scikit-learn developer API.\n",
      "  warnings.warn(\n"
     ]
    }
   ],
   "source": [
    "# 5\n",
    "from imblearn.over_sampling import SMOTE\n",
    "\n",
    "smote = SMOTE(random_state=42)\n",
    "X_train_smote, y_train_smote = smote.fit_resample(X_train, y_train)\n",
    "\n",
    "# 적용 전/후 Class 분포 비교\n",
    "print(\"SMOTE 적용 전:\\n\", y_train.value_counts())\n",
    "print(\"\\nSMOTE 적용 후:\\n\", y_train_smote.value_counts())"
   ]
  },
  {
   "cell_type": "code",
   "execution_count": 26,
   "id": "20862995",
   "metadata": {},
   "outputs": [
    {
     "name": "stdout",
     "output_type": "stream",
     "text": [
      "Classification Report:\n",
      "              precision    recall  f1-score   support\n",
      "\n",
      "           0     0.9945    0.9965    0.9955      2001\n",
      "           1     0.9255    0.8878    0.9062        98\n",
      "\n",
      "    accuracy                         0.9914      2099\n",
      "   macro avg     0.9600    0.9421    0.9509      2099\n",
      "weighted avg     0.9913    0.9914    0.9913      2099\n",
      "\n",
      "PR-AUC (average_precision_score): 0.9546511280244321\n"
     ]
    }
   ],
   "source": [
    "# 6\n",
    "from sklearn.linear_model import LogisticRegression\n",
    "from sklearn.metrics import classification_report, average_precision_score\n",
    "\n",
    "model = LogisticRegression(max_iter=10000, random_state=42)\n",
    "model.fit(X_train_smote, y_train_smote)\n",
    "\n",
    "y_pred = model.predict(X_test)\n",
    "y_proba = model.predict_proba(X_test)[:, 1] \n",
    "\n",
    "y_pred = (y_proba > 0.8).astype(int)\n",
    "print(\"Classification Report:\")\n",
    "print(classification_report(y_test, y_pred, digits=4))\n",
    "\n",
    "# PR-AUC\n",
    "pr_auc = average_precision_score(y_test, y_proba)\n",
    "print(f\"PR-AUC (average_precision_score): {pr_auc}\")"
   ]
  },
  {
   "cell_type": "code",
   "execution_count": null,
   "id": "54927f78",
   "metadata": {},
   "outputs": [],
   "source": []
  }
 ],
 "metadata": {
  "kernelspec": {
   "display_name": "hw3",
   "language": "python",
   "name": "python3"
  },
  "language_info": {
   "codemirror_mode": {
    "name": "ipython",
    "version": 3
   },
   "file_extension": ".py",
   "mimetype": "text/x-python",
   "name": "python",
   "nbconvert_exporter": "python",
   "pygments_lexer": "ipython3",
   "version": "3.9.23"
  }
 },
 "nbformat": 4,
 "nbformat_minor": 5
}
